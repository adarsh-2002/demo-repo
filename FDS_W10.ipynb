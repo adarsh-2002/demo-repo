{
  "nbformat": 4,
  "nbformat_minor": 0,
  "metadata": {
    "colab": {
      "name": "FDS_W10.ipynb",
      "provenance": [],
      "authorship_tag": "ABX9TyME/pnJjG2SmJoOaO50MVHi",
      "include_colab_link": true
    },
    "kernelspec": {
      "name": "python3",
      "display_name": "Python 3"
    }
  },
  "cells": [
    {
      "cell_type": "markdown",
      "metadata": {
        "id": "view-in-github",
        "colab_type": "text"
      },
      "source": [
        "<a href=\"https://colab.research.google.com/github/adarsh-2002/demo-repo/blob/master/FDS_W10.ipynb\" target=\"_parent\"><img src=\"https://colab.research.google.com/assets/colab-badge.svg\" alt=\"Open In Colab\"/></a>"
      ]
    },
    {
      "cell_type": "code",
      "metadata": {
        "id": "j9RG4DUxakfH",
        "colab_type": "code",
        "colab": {}
      },
      "source": [
        "import pandas as pd\n",
        "import numpy as np"
      ],
      "execution_count": 1,
      "outputs": []
    },
    {
      "cell_type": "markdown",
      "metadata": {
        "id": "ArZNB_8-dghL",
        "colab_type": "text"
      },
      "source": [
        "##Creating Dataframe objects"
      ]
    },
    {
      "cell_type": "code",
      "metadata": {
        "id": "YYBApqpKdXM_",
        "colab_type": "code",
        "colab": {}
      },
      "source": [
        "arr = np.random.randint(0, 10, (5, 3))"
      ],
      "execution_count": 2,
      "outputs": []
    },
    {
      "cell_type": "code",
      "metadata": {
        "id": "9vAkHlxbdon2",
        "colab_type": "code",
        "colab": {
          "base_uri": "https://localhost:8080/",
          "height": 102
        },
        "outputId": "2b5aff84-c845-415e-dc0f-fcc2b1d620bb"
      },
      "source": [
        "arr"
      ],
      "execution_count": 3,
      "outputs": [
        {
          "output_type": "execute_result",
          "data": {
            "text/plain": [
              "array([[8, 0, 6],\n",
              "       [6, 8, 3],\n",
              "       [4, 1, 0],\n",
              "       [0, 3, 9],\n",
              "       [1, 4, 5]])"
            ]
          },
          "metadata": {
            "tags": []
          },
          "execution_count": 3
        }
      ]
    },
    {
      "cell_type": "code",
      "metadata": {
        "id": "IyTFqEDwdpir",
        "colab_type": "code",
        "colab": {}
      },
      "source": [
        "df = pd.DataFrame(arr)"
      ],
      "execution_count": 4,
      "outputs": []
    },
    {
      "cell_type": "code",
      "metadata": {
        "id": "xeW4aKZydxAX",
        "colab_type": "code",
        "colab": {
          "base_uri": "https://localhost:8080/",
          "height": 204
        },
        "outputId": "9b5c8c05-b272-48b9-8451-6f829ec1ddbf"
      },
      "source": [
        "df"
      ],
      "execution_count": 5,
      "outputs": [
        {
          "output_type": "execute_result",
          "data": {
            "text/html": [
              "<div>\n",
              "<style scoped>\n",
              "    .dataframe tbody tr th:only-of-type {\n",
              "        vertical-align: middle;\n",
              "    }\n",
              "\n",
              "    .dataframe tbody tr th {\n",
              "        vertical-align: top;\n",
              "    }\n",
              "\n",
              "    .dataframe thead th {\n",
              "        text-align: right;\n",
              "    }\n",
              "</style>\n",
              "<table border=\"1\" class=\"dataframe\">\n",
              "  <thead>\n",
              "    <tr style=\"text-align: right;\">\n",
              "      <th></th>\n",
              "      <th>0</th>\n",
              "      <th>1</th>\n",
              "      <th>2</th>\n",
              "    </tr>\n",
              "  </thead>\n",
              "  <tbody>\n",
              "    <tr>\n",
              "      <th>0</th>\n",
              "      <td>8</td>\n",
              "      <td>0</td>\n",
              "      <td>6</td>\n",
              "    </tr>\n",
              "    <tr>\n",
              "      <th>1</th>\n",
              "      <td>6</td>\n",
              "      <td>8</td>\n",
              "      <td>3</td>\n",
              "    </tr>\n",
              "    <tr>\n",
              "      <th>2</th>\n",
              "      <td>4</td>\n",
              "      <td>1</td>\n",
              "      <td>0</td>\n",
              "    </tr>\n",
              "    <tr>\n",
              "      <th>3</th>\n",
              "      <td>0</td>\n",
              "      <td>3</td>\n",
              "      <td>9</td>\n",
              "    </tr>\n",
              "    <tr>\n",
              "      <th>4</th>\n",
              "      <td>1</td>\n",
              "      <td>4</td>\n",
              "      <td>5</td>\n",
              "    </tr>\n",
              "  </tbody>\n",
              "</table>\n",
              "</div>"
            ],
            "text/plain": [
              "   0  1  2\n",
              "0  8  0  6\n",
              "1  6  8  3\n",
              "2  4  1  0\n",
              "3  0  3  9\n",
              "4  1  4  5"
            ]
          },
          "metadata": {
            "tags": []
          },
          "execution_count": 5
        }
      ]
    },
    {
      "cell_type": "code",
      "metadata": {
        "id": "DZiKZvQIdxqX",
        "colab_type": "code",
        "colab": {
          "base_uri": "https://localhost:8080/",
          "height": 102
        },
        "outputId": "44b0a099-57d5-4d70-a64b-310f35058486"
      },
      "source": [
        "df.values"
      ],
      "execution_count": 6,
      "outputs": [
        {
          "output_type": "execute_result",
          "data": {
            "text/plain": [
              "array([[8, 0, 6],\n",
              "       [6, 8, 3],\n",
              "       [4, 1, 0],\n",
              "       [0, 3, 9],\n",
              "       [1, 4, 5]])"
            ]
          },
          "metadata": {
            "tags": []
          },
          "execution_count": 6
        }
      ]
    },
    {
      "cell_type": "code",
      "metadata": {
        "id": "aRhptnKFd_C2",
        "colab_type": "code",
        "colab": {
          "base_uri": "https://localhost:8080/",
          "height": 34
        },
        "outputId": "4655e356-ca79-4c1a-bf20-1f4b930ae4a0"
      },
      "source": [
        "df.index"
      ],
      "execution_count": 7,
      "outputs": [
        {
          "output_type": "execute_result",
          "data": {
            "text/plain": [
              "RangeIndex(start=0, stop=5, step=1)"
            ]
          },
          "metadata": {
            "tags": []
          },
          "execution_count": 7
        }
      ]
    },
    {
      "cell_type": "code",
      "metadata": {
        "id": "Fu8lV3uCeAwy",
        "colab_type": "code",
        "colab": {
          "base_uri": "https://localhost:8080/",
          "height": 34
        },
        "outputId": "37264d6f-f1ca-4804-cbb6-7b8b9ac31d22"
      },
      "source": [
        "df.columns"
      ],
      "execution_count": 8,
      "outputs": [
        {
          "output_type": "execute_result",
          "data": {
            "text/plain": [
              "RangeIndex(start=0, stop=3, step=1)"
            ]
          },
          "metadata": {
            "tags": []
          },
          "execution_count": 8
        }
      ]
    },
    {
      "cell_type": "code",
      "metadata": {
        "id": "g5AtPqHceD52",
        "colab_type": "code",
        "colab": {}
      },
      "source": [
        "df.index = ['R1', 'R2', 'R3', 'R4', 'R5']\n",
        "df.columns = ['C1', 'C2', 'C3']"
      ],
      "execution_count": 9,
      "outputs": []
    },
    {
      "cell_type": "code",
      "metadata": {
        "id": "2PSENm0heVBT",
        "colab_type": "code",
        "colab": {
          "base_uri": "https://localhost:8080/",
          "height": 204
        },
        "outputId": "b37c7cf0-6f6f-4466-c645-b602826d6107"
      },
      "source": [
        "df"
      ],
      "execution_count": 10,
      "outputs": [
        {
          "output_type": "execute_result",
          "data": {
            "text/html": [
              "<div>\n",
              "<style scoped>\n",
              "    .dataframe tbody tr th:only-of-type {\n",
              "        vertical-align: middle;\n",
              "    }\n",
              "\n",
              "    .dataframe tbody tr th {\n",
              "        vertical-align: top;\n",
              "    }\n",
              "\n",
              "    .dataframe thead th {\n",
              "        text-align: right;\n",
              "    }\n",
              "</style>\n",
              "<table border=\"1\" class=\"dataframe\">\n",
              "  <thead>\n",
              "    <tr style=\"text-align: right;\">\n",
              "      <th></th>\n",
              "      <th>C1</th>\n",
              "      <th>C2</th>\n",
              "      <th>C3</th>\n",
              "    </tr>\n",
              "  </thead>\n",
              "  <tbody>\n",
              "    <tr>\n",
              "      <th>R1</th>\n",
              "      <td>8</td>\n",
              "      <td>0</td>\n",
              "      <td>6</td>\n",
              "    </tr>\n",
              "    <tr>\n",
              "      <th>R2</th>\n",
              "      <td>6</td>\n",
              "      <td>8</td>\n",
              "      <td>3</td>\n",
              "    </tr>\n",
              "    <tr>\n",
              "      <th>R3</th>\n",
              "      <td>4</td>\n",
              "      <td>1</td>\n",
              "      <td>0</td>\n",
              "    </tr>\n",
              "    <tr>\n",
              "      <th>R4</th>\n",
              "      <td>0</td>\n",
              "      <td>3</td>\n",
              "      <td>9</td>\n",
              "    </tr>\n",
              "    <tr>\n",
              "      <th>R5</th>\n",
              "      <td>1</td>\n",
              "      <td>4</td>\n",
              "      <td>5</td>\n",
              "    </tr>\n",
              "  </tbody>\n",
              "</table>\n",
              "</div>"
            ],
            "text/plain": [
              "    C1  C2  C3\n",
              "R1   8   0   6\n",
              "R2   6   8   3\n",
              "R3   4   1   0\n",
              "R4   0   3   9\n",
              "R5   1   4   5"
            ]
          },
          "metadata": {
            "tags": []
          },
          "execution_count": 10
        }
      ]
    },
    {
      "cell_type": "code",
      "metadata": {
        "id": "NcF7F0fFeV7I",
        "colab_type": "code",
        "colab": {
          "base_uri": "https://localhost:8080/",
          "height": 34
        },
        "outputId": "9cdd6873-e1ac-4f01-a844-76ef7dc5d460"
      },
      "source": [
        "df.loc['R3', 'C1']"
      ],
      "execution_count": 11,
      "outputs": [
        {
          "output_type": "execute_result",
          "data": {
            "text/plain": [
              "4"
            ]
          },
          "metadata": {
            "tags": []
          },
          "execution_count": 11
        }
      ]
    },
    {
      "cell_type": "code",
      "metadata": {
        "id": "tbz4pXc4x9hd",
        "colab_type": "code",
        "colab": {
          "base_uri": "https://localhost:8080/",
          "height": 34
        },
        "outputId": "517496c1-8060-43fb-dfd6-c2b961fc8409"
      },
      "source": [
        "df.iloc[2, 0]"
      ],
      "execution_count": 12,
      "outputs": [
        {
          "output_type": "execute_result",
          "data": {
            "text/plain": [
              "4"
            ]
          },
          "metadata": {
            "tags": []
          },
          "execution_count": 12
        }
      ]
    },
    {
      "cell_type": "code",
      "metadata": {
        "id": "uuNSTzHcyHU_",
        "colab_type": "code",
        "colab": {
          "base_uri": "https://localhost:8080/",
          "height": 111
        },
        "outputId": "dd6310ee-4257-4d09-8e6a-c55b42acb155"
      },
      "source": [
        "df.iloc[2:4, 1:3]"
      ],
      "execution_count": 13,
      "outputs": [
        {
          "output_type": "execute_result",
          "data": {
            "text/html": [
              "<div>\n",
              "<style scoped>\n",
              "    .dataframe tbody tr th:only-of-type {\n",
              "        vertical-align: middle;\n",
              "    }\n",
              "\n",
              "    .dataframe tbody tr th {\n",
              "        vertical-align: top;\n",
              "    }\n",
              "\n",
              "    .dataframe thead th {\n",
              "        text-align: right;\n",
              "    }\n",
              "</style>\n",
              "<table border=\"1\" class=\"dataframe\">\n",
              "  <thead>\n",
              "    <tr style=\"text-align: right;\">\n",
              "      <th></th>\n",
              "      <th>C2</th>\n",
              "      <th>C3</th>\n",
              "    </tr>\n",
              "  </thead>\n",
              "  <tbody>\n",
              "    <tr>\n",
              "      <th>R3</th>\n",
              "      <td>1</td>\n",
              "      <td>0</td>\n",
              "    </tr>\n",
              "    <tr>\n",
              "      <th>R4</th>\n",
              "      <td>3</td>\n",
              "      <td>9</td>\n",
              "    </tr>\n",
              "  </tbody>\n",
              "</table>\n",
              "</div>"
            ],
            "text/plain": [
              "    C2  C3\n",
              "R3   1   0\n",
              "R4   3   9"
            ]
          },
          "metadata": {
            "tags": []
          },
          "execution_count": 13
        }
      ]
    },
    {
      "cell_type": "code",
      "metadata": {
        "id": "RwpzpgYQyehj",
        "colab_type": "code",
        "colab": {
          "base_uri": "https://localhost:8080/",
          "height": 142
        },
        "outputId": "6abb4300-685a-4b85-e1e5-f63d49696fab"
      },
      "source": [
        "df.loc['R3':'R5', 'C1':'C2'] #returns subset as a dataframe object"
      ],
      "execution_count": 14,
      "outputs": [
        {
          "output_type": "execute_result",
          "data": {
            "text/html": [
              "<div>\n",
              "<style scoped>\n",
              "    .dataframe tbody tr th:only-of-type {\n",
              "        vertical-align: middle;\n",
              "    }\n",
              "\n",
              "    .dataframe tbody tr th {\n",
              "        vertical-align: top;\n",
              "    }\n",
              "\n",
              "    .dataframe thead th {\n",
              "        text-align: right;\n",
              "    }\n",
              "</style>\n",
              "<table border=\"1\" class=\"dataframe\">\n",
              "  <thead>\n",
              "    <tr style=\"text-align: right;\">\n",
              "      <th></th>\n",
              "      <th>C1</th>\n",
              "      <th>C2</th>\n",
              "    </tr>\n",
              "  </thead>\n",
              "  <tbody>\n",
              "    <tr>\n",
              "      <th>R3</th>\n",
              "      <td>4</td>\n",
              "      <td>1</td>\n",
              "    </tr>\n",
              "    <tr>\n",
              "      <th>R4</th>\n",
              "      <td>0</td>\n",
              "      <td>3</td>\n",
              "    </tr>\n",
              "    <tr>\n",
              "      <th>R5</th>\n",
              "      <td>1</td>\n",
              "      <td>4</td>\n",
              "    </tr>\n",
              "  </tbody>\n",
              "</table>\n",
              "</div>"
            ],
            "text/plain": [
              "    C1  C2\n",
              "R3   4   1\n",
              "R4   0   3\n",
              "R5   1   4"
            ]
          },
          "metadata": {
            "tags": []
          },
          "execution_count": 14
        }
      ]
    },
    {
      "cell_type": "code",
      "metadata": {
        "id": "EXGTuWbryoYX",
        "colab_type": "code",
        "colab": {
          "base_uri": "https://localhost:8080/",
          "height": 85
        },
        "outputId": "5940b0a1-2932-4be4-8663-62caddc0ba00"
      },
      "source": [
        "df.iloc[0] #returns row as a Series object"
      ],
      "execution_count": 15,
      "outputs": [
        {
          "output_type": "execute_result",
          "data": {
            "text/plain": [
              "C1    8\n",
              "C2    0\n",
              "C3    6\n",
              "Name: R1, dtype: int64"
            ]
          },
          "metadata": {
            "tags": []
          },
          "execution_count": 15
        }
      ]
    },
    {
      "cell_type": "markdown",
      "metadata": {
        "id": "qbiSckKKy-_e",
        "colab_type": "text"
      },
      "source": [
        "**A dataframe can be interpreted as a collection of series**"
      ]
    },
    {
      "cell_type": "code",
      "metadata": {
        "id": "4GrQ7S4myzRi",
        "colab_type": "code",
        "colab": {
          "base_uri": "https://localhost:8080/",
          "height": 119
        },
        "outputId": "b167383c-6ad9-47b5-a561-875611ea8ffc"
      },
      "source": [
        "df.iloc[:, 0] #returns column as Series object"
      ],
      "execution_count": 16,
      "outputs": [
        {
          "output_type": "execute_result",
          "data": {
            "text/plain": [
              "R1    8\n",
              "R2    6\n",
              "R3    4\n",
              "R4    0\n",
              "R5    1\n",
              "Name: C1, dtype: int64"
            ]
          },
          "metadata": {
            "tags": []
          },
          "execution_count": 16
        }
      ]
    },
    {
      "cell_type": "code",
      "metadata": {
        "id": "0yfAsWOFzTlu",
        "colab_type": "code",
        "colab": {
          "base_uri": "https://localhost:8080/",
          "height": 34
        },
        "outputId": "011b9d47-f427-4bb2-a376-3f3e02ed9546"
      },
      "source": [
        "df.shape"
      ],
      "execution_count": 17,
      "outputs": [
        {
          "output_type": "execute_result",
          "data": {
            "text/plain": [
              "(5, 3)"
            ]
          },
          "metadata": {
            "tags": []
          },
          "execution_count": 17
        }
      ]
    },
    {
      "cell_type": "code",
      "metadata": {
        "id": "mEu5TWJSzYcx",
        "colab_type": "code",
        "colab": {
          "base_uri": "https://localhost:8080/",
          "height": 142
        },
        "outputId": "8014f53e-4772-45b8-ab1e-ecace14ccec3"
      },
      "source": [
        "df.T"
      ],
      "execution_count": 18,
      "outputs": [
        {
          "output_type": "execute_result",
          "data": {
            "text/html": [
              "<div>\n",
              "<style scoped>\n",
              "    .dataframe tbody tr th:only-of-type {\n",
              "        vertical-align: middle;\n",
              "    }\n",
              "\n",
              "    .dataframe tbody tr th {\n",
              "        vertical-align: top;\n",
              "    }\n",
              "\n",
              "    .dataframe thead th {\n",
              "        text-align: right;\n",
              "    }\n",
              "</style>\n",
              "<table border=\"1\" class=\"dataframe\">\n",
              "  <thead>\n",
              "    <tr style=\"text-align: right;\">\n",
              "      <th></th>\n",
              "      <th>R1</th>\n",
              "      <th>R2</th>\n",
              "      <th>R3</th>\n",
              "      <th>R4</th>\n",
              "      <th>R5</th>\n",
              "    </tr>\n",
              "  </thead>\n",
              "  <tbody>\n",
              "    <tr>\n",
              "      <th>C1</th>\n",
              "      <td>8</td>\n",
              "      <td>6</td>\n",
              "      <td>4</td>\n",
              "      <td>0</td>\n",
              "      <td>1</td>\n",
              "    </tr>\n",
              "    <tr>\n",
              "      <th>C2</th>\n",
              "      <td>0</td>\n",
              "      <td>8</td>\n",
              "      <td>1</td>\n",
              "      <td>3</td>\n",
              "      <td>4</td>\n",
              "    </tr>\n",
              "    <tr>\n",
              "      <th>C3</th>\n",
              "      <td>6</td>\n",
              "      <td>3</td>\n",
              "      <td>0</td>\n",
              "      <td>9</td>\n",
              "      <td>5</td>\n",
              "    </tr>\n",
              "  </tbody>\n",
              "</table>\n",
              "</div>"
            ],
            "text/plain": [
              "    R1  R2  R3  R4  R5\n",
              "C1   8   6   4   0   1\n",
              "C2   0   8   1   3   4\n",
              "C3   6   3   0   9   5"
            ]
          },
          "metadata": {
            "tags": []
          },
          "execution_count": 18
        }
      ]
    },
    {
      "cell_type": "markdown",
      "metadata": {
        "id": "7rQqt-VDzg7d",
        "colab_type": "text"
      },
      "source": [
        "Task on creating dataframes"
      ]
    },
    {
      "cell_type": "code",
      "metadata": {
        "id": "FJtYtocWzZVo",
        "colab_type": "code",
        "colab": {}
      },
      "source": [
        "def create_df(nRows, nCols, maxRand = 10):\n",
        "  arr = np.random.randint(0, maxRand, (nRows, nCols))\n",
        "  df = pd.DataFrame(arr)\n",
        "  df.index = ['R' + str(x) for x in np.arange(1, nRows+1)]\n",
        "  df.columns = ['C' + str(x) for x in np.arange(1,nCols+1)]\n",
        "  return df"
      ],
      "execution_count": 19,
      "outputs": []
    },
    {
      "cell_type": "code",
      "metadata": {
        "id": "LW16-yed0eOP",
        "colab_type": "code",
        "colab": {
          "base_uri": "https://localhost:8080/",
          "height": 204
        },
        "outputId": "45fd63a9-972d-4da9-af6a-1d95d8104b23"
      },
      "source": [
        "create_df(5, 3)"
      ],
      "execution_count": 20,
      "outputs": [
        {
          "output_type": "execute_result",
          "data": {
            "text/html": [
              "<div>\n",
              "<style scoped>\n",
              "    .dataframe tbody tr th:only-of-type {\n",
              "        vertical-align: middle;\n",
              "    }\n",
              "\n",
              "    .dataframe tbody tr th {\n",
              "        vertical-align: top;\n",
              "    }\n",
              "\n",
              "    .dataframe thead th {\n",
              "        text-align: right;\n",
              "    }\n",
              "</style>\n",
              "<table border=\"1\" class=\"dataframe\">\n",
              "  <thead>\n",
              "    <tr style=\"text-align: right;\">\n",
              "      <th></th>\n",
              "      <th>C1</th>\n",
              "      <th>C2</th>\n",
              "      <th>C3</th>\n",
              "    </tr>\n",
              "  </thead>\n",
              "  <tbody>\n",
              "    <tr>\n",
              "      <th>R1</th>\n",
              "      <td>2</td>\n",
              "      <td>5</td>\n",
              "      <td>5</td>\n",
              "    </tr>\n",
              "    <tr>\n",
              "      <th>R2</th>\n",
              "      <td>4</td>\n",
              "      <td>8</td>\n",
              "      <td>2</td>\n",
              "    </tr>\n",
              "    <tr>\n",
              "      <th>R3</th>\n",
              "      <td>2</td>\n",
              "      <td>7</td>\n",
              "      <td>6</td>\n",
              "    </tr>\n",
              "    <tr>\n",
              "      <th>R4</th>\n",
              "      <td>6</td>\n",
              "      <td>5</td>\n",
              "      <td>2</td>\n",
              "    </tr>\n",
              "    <tr>\n",
              "      <th>R5</th>\n",
              "      <td>2</td>\n",
              "      <td>3</td>\n",
              "      <td>4</td>\n",
              "    </tr>\n",
              "  </tbody>\n",
              "</table>\n",
              "</div>"
            ],
            "text/plain": [
              "    C1  C2  C3\n",
              "R1   2   5   5\n",
              "R2   4   8   2\n",
              "R3   2   7   6\n",
              "R4   6   5   2\n",
              "R5   2   3   4"
            ]
          },
          "metadata": {
            "tags": []
          },
          "execution_count": 20
        }
      ]
    },
    {
      "cell_type": "code",
      "metadata": {
        "id": "5ZuGV4e20jvp",
        "colab_type": "code",
        "colab": {
          "base_uri": "https://localhost:8080/",
          "height": 111
        },
        "outputId": "951b834d-7c87-44c8-daf6-f68468097bc1"
      },
      "source": [
        "create_df(2, 5)"
      ],
      "execution_count": 21,
      "outputs": [
        {
          "output_type": "execute_result",
          "data": {
            "text/html": [
              "<div>\n",
              "<style scoped>\n",
              "    .dataframe tbody tr th:only-of-type {\n",
              "        vertical-align: middle;\n",
              "    }\n",
              "\n",
              "    .dataframe tbody tr th {\n",
              "        vertical-align: top;\n",
              "    }\n",
              "\n",
              "    .dataframe thead th {\n",
              "        text-align: right;\n",
              "    }\n",
              "</style>\n",
              "<table border=\"1\" class=\"dataframe\">\n",
              "  <thead>\n",
              "    <tr style=\"text-align: right;\">\n",
              "      <th></th>\n",
              "      <th>C1</th>\n",
              "      <th>C2</th>\n",
              "      <th>C3</th>\n",
              "      <th>C4</th>\n",
              "      <th>C5</th>\n",
              "    </tr>\n",
              "  </thead>\n",
              "  <tbody>\n",
              "    <tr>\n",
              "      <th>R1</th>\n",
              "      <td>2</td>\n",
              "      <td>5</td>\n",
              "      <td>8</td>\n",
              "      <td>8</td>\n",
              "      <td>0</td>\n",
              "    </tr>\n",
              "    <tr>\n",
              "      <th>R2</th>\n",
              "      <td>6</td>\n",
              "      <td>7</td>\n",
              "      <td>9</td>\n",
              "      <td>3</td>\n",
              "      <td>7</td>\n",
              "    </tr>\n",
              "  </tbody>\n",
              "</table>\n",
              "</div>"
            ],
            "text/plain": [
              "    C1  C2  C3  C4  C5\n",
              "R1   2   5   8   8   0\n",
              "R2   6   7   9   3   7"
            ]
          },
          "metadata": {
            "tags": []
          },
          "execution_count": 21
        }
      ]
    },
    {
      "cell_type": "code",
      "metadata": {
        "id": "N_5Vzwu60zny",
        "colab_type": "code",
        "colab": {}
      },
      "source": [
        "mass = pd.Series([0.33, 4.87, 5.97, 0.642, 1898, 568, 86.8, 102, 0.0146], \n",
        "                 index = ['Mercury', 'Venus', 'Earth', 'Mars', 'Jupiter', 'Saturn', 'Uranus', 'Neptune', 'Pluto'])\n",
        "diameter = pd.Series([4879, 12104, 12756, 3475, 6792, 142984, 120536, 51118, 49528, 2370],\n",
        "                     index = ['Mercury', 'Venus', 'Earth', 'Moon', 'Mars', 'Jupiter', 'Saturn', 'Uranus', 'Neptune', 'Pluto'])"
      ],
      "execution_count": 22,
      "outputs": []
    },
    {
      "cell_type": "code",
      "metadata": {
        "id": "N6J7SPCP1kc3",
        "colab_type": "code",
        "colab": {
          "base_uri": "https://localhost:8080/",
          "height": 187
        },
        "outputId": "42d7bf54-656a-4693-d2db-f4b33c0ec756"
      },
      "source": [
        "mass"
      ],
      "execution_count": 23,
      "outputs": [
        {
          "output_type": "execute_result",
          "data": {
            "text/plain": [
              "Mercury       0.3300\n",
              "Venus         4.8700\n",
              "Earth         5.9700\n",
              "Mars          0.6420\n",
              "Jupiter    1898.0000\n",
              "Saturn      568.0000\n",
              "Uranus       86.8000\n",
              "Neptune     102.0000\n",
              "Pluto         0.0146\n",
              "dtype: float64"
            ]
          },
          "metadata": {
            "tags": []
          },
          "execution_count": 23
        }
      ]
    },
    {
      "cell_type": "code",
      "metadata": {
        "id": "l4296wp81rwz",
        "colab_type": "code",
        "colab": {
          "base_uri": "https://localhost:8080/",
          "height": 204
        },
        "outputId": "977ae96c-2079-4fe3-82c2-590177d4bc01"
      },
      "source": [
        "diameter"
      ],
      "execution_count": 24,
      "outputs": [
        {
          "output_type": "execute_result",
          "data": {
            "text/plain": [
              "Mercury      4879\n",
              "Venus       12104\n",
              "Earth       12756\n",
              "Moon         3475\n",
              "Mars         6792\n",
              "Jupiter    142984\n",
              "Saturn     120536\n",
              "Uranus      51118\n",
              "Neptune     49528\n",
              "Pluto        2370\n",
              "dtype: int64"
            ]
          },
          "metadata": {
            "tags": []
          },
          "execution_count": 24
        }
      ]
    },
    {
      "cell_type": "code",
      "metadata": {
        "id": "hBv-HDmt1sSL",
        "colab_type": "code",
        "colab": {}
      },
      "source": [
        "df = pd.DataFrame({'Mass' : mass, 'Diameter' : diameter})"
      ],
      "execution_count": 25,
      "outputs": []
    },
    {
      "cell_type": "code",
      "metadata": {
        "id": "HCt0PTft2Z3L",
        "colab_type": "code",
        "colab": {
          "base_uri": "https://localhost:8080/",
          "height": 359
        },
        "outputId": "73995d9e-8a4f-42d5-d71b-59e8f8f74ac6"
      },
      "source": [
        "df"
      ],
      "execution_count": 26,
      "outputs": [
        {
          "output_type": "execute_result",
          "data": {
            "text/html": [
              "<div>\n",
              "<style scoped>\n",
              "    .dataframe tbody tr th:only-of-type {\n",
              "        vertical-align: middle;\n",
              "    }\n",
              "\n",
              "    .dataframe tbody tr th {\n",
              "        vertical-align: top;\n",
              "    }\n",
              "\n",
              "    .dataframe thead th {\n",
              "        text-align: right;\n",
              "    }\n",
              "</style>\n",
              "<table border=\"1\" class=\"dataframe\">\n",
              "  <thead>\n",
              "    <tr style=\"text-align: right;\">\n",
              "      <th></th>\n",
              "      <th>Mass</th>\n",
              "      <th>Diameter</th>\n",
              "    </tr>\n",
              "  </thead>\n",
              "  <tbody>\n",
              "    <tr>\n",
              "      <th>Earth</th>\n",
              "      <td>5.9700</td>\n",
              "      <td>12756</td>\n",
              "    </tr>\n",
              "    <tr>\n",
              "      <th>Jupiter</th>\n",
              "      <td>1898.0000</td>\n",
              "      <td>142984</td>\n",
              "    </tr>\n",
              "    <tr>\n",
              "      <th>Mars</th>\n",
              "      <td>0.6420</td>\n",
              "      <td>6792</td>\n",
              "    </tr>\n",
              "    <tr>\n",
              "      <th>Mercury</th>\n",
              "      <td>0.3300</td>\n",
              "      <td>4879</td>\n",
              "    </tr>\n",
              "    <tr>\n",
              "      <th>Moon</th>\n",
              "      <td>NaN</td>\n",
              "      <td>3475</td>\n",
              "    </tr>\n",
              "    <tr>\n",
              "      <th>Neptune</th>\n",
              "      <td>102.0000</td>\n",
              "      <td>49528</td>\n",
              "    </tr>\n",
              "    <tr>\n",
              "      <th>Pluto</th>\n",
              "      <td>0.0146</td>\n",
              "      <td>2370</td>\n",
              "    </tr>\n",
              "    <tr>\n",
              "      <th>Saturn</th>\n",
              "      <td>568.0000</td>\n",
              "      <td>120536</td>\n",
              "    </tr>\n",
              "    <tr>\n",
              "      <th>Uranus</th>\n",
              "      <td>86.8000</td>\n",
              "      <td>51118</td>\n",
              "    </tr>\n",
              "    <tr>\n",
              "      <th>Venus</th>\n",
              "      <td>4.8700</td>\n",
              "      <td>12104</td>\n",
              "    </tr>\n",
              "  </tbody>\n",
              "</table>\n",
              "</div>"
            ],
            "text/plain": [
              "              Mass  Diameter\n",
              "Earth       5.9700     12756\n",
              "Jupiter  1898.0000    142984\n",
              "Mars        0.6420      6792\n",
              "Mercury     0.3300      4879\n",
              "Moon           NaN      3475\n",
              "Neptune   102.0000     49528\n",
              "Pluto       0.0146      2370\n",
              "Saturn    568.0000    120536\n",
              "Uranus     86.8000     51118\n",
              "Venus       4.8700     12104"
            ]
          },
          "metadata": {
            "tags": []
          },
          "execution_count": 26
        }
      ]
    },
    {
      "cell_type": "code",
      "metadata": {
        "id": "yxPJOCNi2aMS",
        "colab_type": "code",
        "colab": {
          "base_uri": "https://localhost:8080/",
          "height": 204
        },
        "outputId": "48e4372b-1e87-438f-e137-c07ac74de69d"
      },
      "source": [
        "df['Diameter']"
      ],
      "execution_count": 27,
      "outputs": [
        {
          "output_type": "execute_result",
          "data": {
            "text/plain": [
              "Earth       12756\n",
              "Jupiter    142984\n",
              "Mars         6792\n",
              "Mercury      4879\n",
              "Moon         3475\n",
              "Neptune     49528\n",
              "Pluto        2370\n",
              "Saturn     120536\n",
              "Uranus      51118\n",
              "Venus       12104\n",
              "Name: Diameter, dtype: int64"
            ]
          },
          "metadata": {
            "tags": []
          },
          "execution_count": 27
        }
      ]
    },
    {
      "cell_type": "code",
      "metadata": {
        "id": "Njl12LTS-zEs",
        "colab_type": "code",
        "colab": {
          "base_uri": "https://localhost:8080/",
          "height": 34
        },
        "outputId": "308f4b71-2659-403b-d84b-be15c530f5fb"
      },
      "source": [
        "df['Mass']['Earth']\n"
      ],
      "execution_count": 28,
      "outputs": [
        {
          "output_type": "execute_result",
          "data": {
            "text/plain": [
              "5.97"
            ]
          },
          "metadata": {
            "tags": []
          },
          "execution_count": 28
        }
      ]
    },
    {
      "cell_type": "code",
      "metadata": {
        "id": "wDZFU8QA-_Hi",
        "colab_type": "code",
        "colab": {}
      },
      "source": [
        "df['pop'] = 0"
      ],
      "execution_count": 29,
      "outputs": []
    },
    {
      "cell_type": "code",
      "metadata": {
        "id": "lmvr4is5_D8a",
        "colab_type": "code",
        "colab": {
          "base_uri": "https://localhost:8080/",
          "height": 359
        },
        "outputId": "add5aaaf-457f-462e-b9b8-7c231d66264e"
      },
      "source": [
        "df"
      ],
      "execution_count": 30,
      "outputs": [
        {
          "output_type": "execute_result",
          "data": {
            "text/html": [
              "<div>\n",
              "<style scoped>\n",
              "    .dataframe tbody tr th:only-of-type {\n",
              "        vertical-align: middle;\n",
              "    }\n",
              "\n",
              "    .dataframe tbody tr th {\n",
              "        vertical-align: top;\n",
              "    }\n",
              "\n",
              "    .dataframe thead th {\n",
              "        text-align: right;\n",
              "    }\n",
              "</style>\n",
              "<table border=\"1\" class=\"dataframe\">\n",
              "  <thead>\n",
              "    <tr style=\"text-align: right;\">\n",
              "      <th></th>\n",
              "      <th>Mass</th>\n",
              "      <th>Diameter</th>\n",
              "      <th>pop</th>\n",
              "    </tr>\n",
              "  </thead>\n",
              "  <tbody>\n",
              "    <tr>\n",
              "      <th>Earth</th>\n",
              "      <td>5.9700</td>\n",
              "      <td>12756</td>\n",
              "      <td>0</td>\n",
              "    </tr>\n",
              "    <tr>\n",
              "      <th>Jupiter</th>\n",
              "      <td>1898.0000</td>\n",
              "      <td>142984</td>\n",
              "      <td>0</td>\n",
              "    </tr>\n",
              "    <tr>\n",
              "      <th>Mars</th>\n",
              "      <td>0.6420</td>\n",
              "      <td>6792</td>\n",
              "      <td>0</td>\n",
              "    </tr>\n",
              "    <tr>\n",
              "      <th>Mercury</th>\n",
              "      <td>0.3300</td>\n",
              "      <td>4879</td>\n",
              "      <td>0</td>\n",
              "    </tr>\n",
              "    <tr>\n",
              "      <th>Moon</th>\n",
              "      <td>NaN</td>\n",
              "      <td>3475</td>\n",
              "      <td>0</td>\n",
              "    </tr>\n",
              "    <tr>\n",
              "      <th>Neptune</th>\n",
              "      <td>102.0000</td>\n",
              "      <td>49528</td>\n",
              "      <td>0</td>\n",
              "    </tr>\n",
              "    <tr>\n",
              "      <th>Pluto</th>\n",
              "      <td>0.0146</td>\n",
              "      <td>2370</td>\n",
              "      <td>0</td>\n",
              "    </tr>\n",
              "    <tr>\n",
              "      <th>Saturn</th>\n",
              "      <td>568.0000</td>\n",
              "      <td>120536</td>\n",
              "      <td>0</td>\n",
              "    </tr>\n",
              "    <tr>\n",
              "      <th>Uranus</th>\n",
              "      <td>86.8000</td>\n",
              "      <td>51118</td>\n",
              "      <td>0</td>\n",
              "    </tr>\n",
              "    <tr>\n",
              "      <th>Venus</th>\n",
              "      <td>4.8700</td>\n",
              "      <td>12104</td>\n",
              "      <td>0</td>\n",
              "    </tr>\n",
              "  </tbody>\n",
              "</table>\n",
              "</div>"
            ],
            "text/plain": [
              "              Mass  Diameter  pop\n",
              "Earth       5.9700     12756    0\n",
              "Jupiter  1898.0000    142984    0\n",
              "Mars        0.6420      6792    0\n",
              "Mercury     0.3300      4879    0\n",
              "Moon           NaN      3475    0\n",
              "Neptune   102.0000     49528    0\n",
              "Pluto       0.0146      2370    0\n",
              "Saturn    568.0000    120536    0\n",
              "Uranus     86.8000     51118    0\n",
              "Venus       4.8700     12104    0"
            ]
          },
          "metadata": {
            "tags": []
          },
          "execution_count": 30
        }
      ]
    },
    {
      "cell_type": "code",
      "metadata": {
        "id": "otow5tM0_EV9",
        "colab_type": "code",
        "colab": {
          "base_uri": "https://localhost:8080/",
          "height": 122
        },
        "outputId": "fd963db8-cab1-47ad-fecc-fd8198ff25ad"
      },
      "source": [
        "df['pop']['Earth'] = 8000000000"
      ],
      "execution_count": 31,
      "outputs": [
        {
          "output_type": "stream",
          "text": [
            "/usr/local/lib/python3.6/dist-packages/ipykernel_launcher.py:1: SettingWithCopyWarning: \n",
            "A value is trying to be set on a copy of a slice from a DataFrame\n",
            "\n",
            "See the caveats in the documentation: https://pandas.pydata.org/pandas-docs/stable/user_guide/indexing.html#returning-a-view-versus-a-copy\n",
            "  \"\"\"Entry point for launching an IPython kernel.\n"
          ],
          "name": "stderr"
        }
      ]
    },
    {
      "cell_type": "code",
      "metadata": {
        "id": "CoPRmSfe_Qhv",
        "colab_type": "code",
        "colab": {
          "base_uri": "https://localhost:8080/",
          "height": 359
        },
        "outputId": "077d741b-7e00-4f7a-9c2e-254343dfa7b2"
      },
      "source": [
        "df"
      ],
      "execution_count": 32,
      "outputs": [
        {
          "output_type": "execute_result",
          "data": {
            "text/html": [
              "<div>\n",
              "<style scoped>\n",
              "    .dataframe tbody tr th:only-of-type {\n",
              "        vertical-align: middle;\n",
              "    }\n",
              "\n",
              "    .dataframe tbody tr th {\n",
              "        vertical-align: top;\n",
              "    }\n",
              "\n",
              "    .dataframe thead th {\n",
              "        text-align: right;\n",
              "    }\n",
              "</style>\n",
              "<table border=\"1\" class=\"dataframe\">\n",
              "  <thead>\n",
              "    <tr style=\"text-align: right;\">\n",
              "      <th></th>\n",
              "      <th>Mass</th>\n",
              "      <th>Diameter</th>\n",
              "      <th>pop</th>\n",
              "    </tr>\n",
              "  </thead>\n",
              "  <tbody>\n",
              "    <tr>\n",
              "      <th>Earth</th>\n",
              "      <td>5.9700</td>\n",
              "      <td>12756</td>\n",
              "      <td>8000000000</td>\n",
              "    </tr>\n",
              "    <tr>\n",
              "      <th>Jupiter</th>\n",
              "      <td>1898.0000</td>\n",
              "      <td>142984</td>\n",
              "      <td>0</td>\n",
              "    </tr>\n",
              "    <tr>\n",
              "      <th>Mars</th>\n",
              "      <td>0.6420</td>\n",
              "      <td>6792</td>\n",
              "      <td>0</td>\n",
              "    </tr>\n",
              "    <tr>\n",
              "      <th>Mercury</th>\n",
              "      <td>0.3300</td>\n",
              "      <td>4879</td>\n",
              "      <td>0</td>\n",
              "    </tr>\n",
              "    <tr>\n",
              "      <th>Moon</th>\n",
              "      <td>NaN</td>\n",
              "      <td>3475</td>\n",
              "      <td>0</td>\n",
              "    </tr>\n",
              "    <tr>\n",
              "      <th>Neptune</th>\n",
              "      <td>102.0000</td>\n",
              "      <td>49528</td>\n",
              "      <td>0</td>\n",
              "    </tr>\n",
              "    <tr>\n",
              "      <th>Pluto</th>\n",
              "      <td>0.0146</td>\n",
              "      <td>2370</td>\n",
              "      <td>0</td>\n",
              "    </tr>\n",
              "    <tr>\n",
              "      <th>Saturn</th>\n",
              "      <td>568.0000</td>\n",
              "      <td>120536</td>\n",
              "      <td>0</td>\n",
              "    </tr>\n",
              "    <tr>\n",
              "      <th>Uranus</th>\n",
              "      <td>86.8000</td>\n",
              "      <td>51118</td>\n",
              "      <td>0</td>\n",
              "    </tr>\n",
              "    <tr>\n",
              "      <th>Venus</th>\n",
              "      <td>4.8700</td>\n",
              "      <td>12104</td>\n",
              "      <td>0</td>\n",
              "    </tr>\n",
              "  </tbody>\n",
              "</table>\n",
              "</div>"
            ],
            "text/plain": [
              "              Mass  Diameter         pop\n",
              "Earth       5.9700     12756  8000000000\n",
              "Jupiter  1898.0000    142984           0\n",
              "Mars        0.6420      6792           0\n",
              "Mercury     0.3300      4879           0\n",
              "Moon           NaN      3475           0\n",
              "Neptune   102.0000     49528           0\n",
              "Pluto       0.0146      2370           0\n",
              "Saturn    568.0000    120536           0\n",
              "Uranus     86.8000     51118           0\n",
              "Venus       4.8700     12104           0"
            ]
          },
          "metadata": {
            "tags": []
          },
          "execution_count": 32
        }
      ]
    },
    {
      "cell_type": "code",
      "metadata": {
        "id": "l-wM_jlt_R0v",
        "colab_type": "code",
        "colab": {
          "base_uri": "https://localhost:8080/",
          "height": 34
        },
        "outputId": "e455ea21-3f88-4f56-f8ae-7cb701500f0b"
      },
      "source": [
        "df['Mass'] is df.Mass"
      ],
      "execution_count": 33,
      "outputs": [
        {
          "output_type": "execute_result",
          "data": {
            "text/plain": [
              "True"
            ]
          },
          "metadata": {
            "tags": []
          },
          "execution_count": 33
        }
      ]
    },
    {
      "cell_type": "code",
      "metadata": {
        "id": "BFtGcwJ-_dcY",
        "colab_type": "code",
        "colab": {
          "base_uri": "https://localhost:8080/",
          "height": 34
        },
        "outputId": "1a88e66d-d7f0-40fb-f72a-54f9d67a4b6a"
      },
      "source": [
        "df['pop'] is df.pop"
      ],
      "execution_count": 34,
      "outputs": [
        {
          "output_type": "execute_result",
          "data": {
            "text/plain": [
              "False"
            ]
          },
          "metadata": {
            "tags": []
          },
          "execution_count": 34
        }
      ]
    },
    {
      "cell_type": "code",
      "metadata": {
        "id": "JPfG74kY_gqE",
        "colab_type": "code",
        "colab": {}
      },
      "source": [
        "df.drop('pop', axis=1, inplace=True)"
      ],
      "execution_count": 37,
      "outputs": []
    },
    {
      "cell_type": "code",
      "metadata": {
        "id": "uyZIA0X6nStQ",
        "colab_type": "code",
        "colab": {
          "base_uri": "https://localhost:8080/",
          "height": 34
        },
        "outputId": "1477c0ce-aa6a-434c-f685-a0b4499718b3"
      },
      "source": [
        "np.mean(df['Mass'])"
      ],
      "execution_count": 39,
      "outputs": [
        {
          "output_type": "execute_result",
          "data": {
            "text/plain": [
              "296.29184444444445"
            ]
          },
          "metadata": {
            "tags": []
          },
          "execution_count": 39
        }
      ]
    },
    {
      "cell_type": "code",
      "metadata": {
        "id": "-ybpqgQ3n1yw",
        "colab_type": "code",
        "colab": {}
      },
      "source": [
        "df.loc['Col_Mean'] = [np.mean(df['Mass']), np.mean(df['Diameter'])]"
      ],
      "execution_count": 40,
      "outputs": []
    },
    {
      "cell_type": "code",
      "metadata": {
        "id": "_Dt530jioKf6",
        "colab_type": "code",
        "colab": {
          "base_uri": "https://localhost:8080/",
          "height": 390
        },
        "outputId": "2b69da45-1890-419a-8d9b-0a68fa12483e"
      },
      "source": [
        "df"
      ],
      "execution_count": 41,
      "outputs": [
        {
          "output_type": "execute_result",
          "data": {
            "text/html": [
              "<div>\n",
              "<style scoped>\n",
              "    .dataframe tbody tr th:only-of-type {\n",
              "        vertical-align: middle;\n",
              "    }\n",
              "\n",
              "    .dataframe tbody tr th {\n",
              "        vertical-align: top;\n",
              "    }\n",
              "\n",
              "    .dataframe thead th {\n",
              "        text-align: right;\n",
              "    }\n",
              "</style>\n",
              "<table border=\"1\" class=\"dataframe\">\n",
              "  <thead>\n",
              "    <tr style=\"text-align: right;\">\n",
              "      <th></th>\n",
              "      <th>Mass</th>\n",
              "      <th>Diameter</th>\n",
              "    </tr>\n",
              "  </thead>\n",
              "  <tbody>\n",
              "    <tr>\n",
              "      <th>Earth</th>\n",
              "      <td>5.970000</td>\n",
              "      <td>12756.0</td>\n",
              "    </tr>\n",
              "    <tr>\n",
              "      <th>Jupiter</th>\n",
              "      <td>1898.000000</td>\n",
              "      <td>142984.0</td>\n",
              "    </tr>\n",
              "    <tr>\n",
              "      <th>Mars</th>\n",
              "      <td>0.642000</td>\n",
              "      <td>6792.0</td>\n",
              "    </tr>\n",
              "    <tr>\n",
              "      <th>Mercury</th>\n",
              "      <td>0.330000</td>\n",
              "      <td>4879.0</td>\n",
              "    </tr>\n",
              "    <tr>\n",
              "      <th>Moon</th>\n",
              "      <td>NaN</td>\n",
              "      <td>3475.0</td>\n",
              "    </tr>\n",
              "    <tr>\n",
              "      <th>Neptune</th>\n",
              "      <td>102.000000</td>\n",
              "      <td>49528.0</td>\n",
              "    </tr>\n",
              "    <tr>\n",
              "      <th>Pluto</th>\n",
              "      <td>0.014600</td>\n",
              "      <td>2370.0</td>\n",
              "    </tr>\n",
              "    <tr>\n",
              "      <th>Saturn</th>\n",
              "      <td>568.000000</td>\n",
              "      <td>120536.0</td>\n",
              "    </tr>\n",
              "    <tr>\n",
              "      <th>Uranus</th>\n",
              "      <td>86.800000</td>\n",
              "      <td>51118.0</td>\n",
              "    </tr>\n",
              "    <tr>\n",
              "      <th>Venus</th>\n",
              "      <td>4.870000</td>\n",
              "      <td>12104.0</td>\n",
              "    </tr>\n",
              "    <tr>\n",
              "      <th>Col_Mean</th>\n",
              "      <td>296.291844</td>\n",
              "      <td>40654.2</td>\n",
              "    </tr>\n",
              "  </tbody>\n",
              "</table>\n",
              "</div>"
            ],
            "text/plain": [
              "                 Mass  Diameter\n",
              "Earth        5.970000   12756.0\n",
              "Jupiter   1898.000000  142984.0\n",
              "Mars         0.642000    6792.0\n",
              "Mercury      0.330000    4879.0\n",
              "Moon              NaN    3475.0\n",
              "Neptune    102.000000   49528.0\n",
              "Pluto        0.014600    2370.0\n",
              "Saturn     568.000000  120536.0\n",
              "Uranus      86.800000   51118.0\n",
              "Venus        4.870000   12104.0\n",
              "Col_Mean   296.291844   40654.2"
            ]
          },
          "metadata": {
            "tags": []
          },
          "execution_count": 41
        }
      ]
    },
    {
      "cell_type": "code",
      "metadata": {
        "id": "6N_nrDXEqMno",
        "colab_type": "code",
        "colab": {}
      },
      "source": [
        "df.drop('Col_Mean', inplace=True)"
      ],
      "execution_count": 47,
      "outputs": []
    },
    {
      "cell_type": "code",
      "metadata": {
        "id": "dGGDqTdBoKzo",
        "colab_type": "code",
        "colab": {}
      },
      "source": [
        "def create_mean_row(df):\n",
        "  # df.loc['Col_Mean'] = [np.mean(df[col]) for col in df.columns]\n",
        "  df.loc['Col_Mean'] = df.mean()\n",
        "  return df"
      ],
      "execution_count": 52,
      "outputs": []
    },
    {
      "cell_type": "code",
      "metadata": {
        "id": "sxTAvFvVqS5d",
        "colab_type": "code",
        "colab": {
          "base_uri": "https://localhost:8080/",
          "height": 390
        },
        "outputId": "d488d5b8-d290-4a4c-8f75-4b57ccba1295"
      },
      "source": [
        "create_mean_row(df)"
      ],
      "execution_count": 54,
      "outputs": [
        {
          "output_type": "execute_result",
          "data": {
            "text/html": [
              "<div>\n",
              "<style scoped>\n",
              "    .dataframe tbody tr th:only-of-type {\n",
              "        vertical-align: middle;\n",
              "    }\n",
              "\n",
              "    .dataframe tbody tr th {\n",
              "        vertical-align: top;\n",
              "    }\n",
              "\n",
              "    .dataframe thead th {\n",
              "        text-align: right;\n",
              "    }\n",
              "</style>\n",
              "<table border=\"1\" class=\"dataframe\">\n",
              "  <thead>\n",
              "    <tr style=\"text-align: right;\">\n",
              "      <th></th>\n",
              "      <th>Mass</th>\n",
              "      <th>Diameter</th>\n",
              "    </tr>\n",
              "  </thead>\n",
              "  <tbody>\n",
              "    <tr>\n",
              "      <th>Earth</th>\n",
              "      <td>5.970000</td>\n",
              "      <td>12756.0</td>\n",
              "    </tr>\n",
              "    <tr>\n",
              "      <th>Jupiter</th>\n",
              "      <td>1898.000000</td>\n",
              "      <td>142984.0</td>\n",
              "    </tr>\n",
              "    <tr>\n",
              "      <th>Mars</th>\n",
              "      <td>0.642000</td>\n",
              "      <td>6792.0</td>\n",
              "    </tr>\n",
              "    <tr>\n",
              "      <th>Mercury</th>\n",
              "      <td>0.330000</td>\n",
              "      <td>4879.0</td>\n",
              "    </tr>\n",
              "    <tr>\n",
              "      <th>Moon</th>\n",
              "      <td>NaN</td>\n",
              "      <td>3475.0</td>\n",
              "    </tr>\n",
              "    <tr>\n",
              "      <th>Neptune</th>\n",
              "      <td>102.000000</td>\n",
              "      <td>49528.0</td>\n",
              "    </tr>\n",
              "    <tr>\n",
              "      <th>Pluto</th>\n",
              "      <td>0.014600</td>\n",
              "      <td>2370.0</td>\n",
              "    </tr>\n",
              "    <tr>\n",
              "      <th>Saturn</th>\n",
              "      <td>568.000000</td>\n",
              "      <td>120536.0</td>\n",
              "    </tr>\n",
              "    <tr>\n",
              "      <th>Uranus</th>\n",
              "      <td>86.800000</td>\n",
              "      <td>51118.0</td>\n",
              "    </tr>\n",
              "    <tr>\n",
              "      <th>Venus</th>\n",
              "      <td>4.870000</td>\n",
              "      <td>12104.0</td>\n",
              "    </tr>\n",
              "    <tr>\n",
              "      <th>Col_Mean</th>\n",
              "      <td>296.291844</td>\n",
              "      <td>40654.2</td>\n",
              "    </tr>\n",
              "  </tbody>\n",
              "</table>\n",
              "</div>"
            ],
            "text/plain": [
              "                 Mass  Diameter\n",
              "Earth        5.970000   12756.0\n",
              "Jupiter   1898.000000  142984.0\n",
              "Mars         0.642000    6792.0\n",
              "Mercury      0.330000    4879.0\n",
              "Moon              NaN    3475.0\n",
              "Neptune    102.000000   49528.0\n",
              "Pluto        0.014600    2370.0\n",
              "Saturn     568.000000  120536.0\n",
              "Uranus      86.800000   51118.0\n",
              "Venus        4.870000   12104.0\n",
              "Col_Mean   296.291844   40654.2"
            ]
          },
          "metadata": {
            "tags": []
          },
          "execution_count": 54
        }
      ]
    },
    {
      "cell_type": "code",
      "metadata": {
        "id": "0B2FiXdErfIp",
        "colab_type": "code",
        "colab": {}
      },
      "source": [
        "df = create_df(5, 3)"
      ],
      "execution_count": 55,
      "outputs": []
    },
    {
      "cell_type": "code",
      "metadata": {
        "id": "2TNbEXEZtC9M",
        "colab_type": "code",
        "colab": {
          "base_uri": "https://localhost:8080/",
          "height": 204
        },
        "outputId": "40b3825d-d1b4-4f0c-b21a-af360dde5d7f"
      },
      "source": [
        "df"
      ],
      "execution_count": 57,
      "outputs": [
        {
          "output_type": "execute_result",
          "data": {
            "text/html": [
              "<div>\n",
              "<style scoped>\n",
              "    .dataframe tbody tr th:only-of-type {\n",
              "        vertical-align: middle;\n",
              "    }\n",
              "\n",
              "    .dataframe tbody tr th {\n",
              "        vertical-align: top;\n",
              "    }\n",
              "\n",
              "    .dataframe thead th {\n",
              "        text-align: right;\n",
              "    }\n",
              "</style>\n",
              "<table border=\"1\" class=\"dataframe\">\n",
              "  <thead>\n",
              "    <tr style=\"text-align: right;\">\n",
              "      <th></th>\n",
              "      <th>C1</th>\n",
              "      <th>C2</th>\n",
              "      <th>C3</th>\n",
              "    </tr>\n",
              "  </thead>\n",
              "  <tbody>\n",
              "    <tr>\n",
              "      <th>R1</th>\n",
              "      <td>0</td>\n",
              "      <td>0</td>\n",
              "      <td>6</td>\n",
              "    </tr>\n",
              "    <tr>\n",
              "      <th>R2</th>\n",
              "      <td>9</td>\n",
              "      <td>4</td>\n",
              "      <td>0</td>\n",
              "    </tr>\n",
              "    <tr>\n",
              "      <th>R3</th>\n",
              "      <td>2</td>\n",
              "      <td>5</td>\n",
              "      <td>5</td>\n",
              "    </tr>\n",
              "    <tr>\n",
              "      <th>R4</th>\n",
              "      <td>9</td>\n",
              "      <td>6</td>\n",
              "      <td>8</td>\n",
              "    </tr>\n",
              "    <tr>\n",
              "      <th>R5</th>\n",
              "      <td>4</td>\n",
              "      <td>5</td>\n",
              "      <td>2</td>\n",
              "    </tr>\n",
              "  </tbody>\n",
              "</table>\n",
              "</div>"
            ],
            "text/plain": [
              "    C1  C2  C3\n",
              "R1   0   0   6\n",
              "R2   9   4   0\n",
              "R3   2   5   5\n",
              "R4   9   6   8\n",
              "R5   4   5   2"
            ]
          },
          "metadata": {
            "tags": []
          },
          "execution_count": 57
        }
      ]
    },
    {
      "cell_type": "code",
      "metadata": {
        "id": "u8U7hnnNs_rQ",
        "colab_type": "code",
        "colab": {
          "base_uri": "https://localhost:8080/",
          "height": 85
        },
        "outputId": "6be4bea5-071a-4c40-8738-002f4e9b6fb8"
      },
      "source": [
        "df.mean()"
      ],
      "execution_count": 58,
      "outputs": [
        {
          "output_type": "execute_result",
          "data": {
            "text/plain": [
              "C1    4.8\n",
              "C2    4.0\n",
              "C3    4.2\n",
              "dtype: float64"
            ]
          },
          "metadata": {
            "tags": []
          },
          "execution_count": 58
        }
      ]
    },
    {
      "cell_type": "code",
      "metadata": {
        "id": "PtoEgda5tBvx",
        "colab_type": "code",
        "colab": {}
      },
      "source": [
        ""
      ],
      "execution_count": null,
      "outputs": []
    }
  ]
}